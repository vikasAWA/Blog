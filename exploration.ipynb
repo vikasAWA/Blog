{
 "cells": [
  {
   "cell_type": "code",
   "execution_count": 2,
   "metadata": {},
   "outputs": [
    {
     "data": {
      "text/plain": [
       "True"
      ]
     },
     "execution_count": 2,
     "metadata": {},
     "output_type": "execute_result"
    }
   ],
   "source": [
    "import google.generativeai as genai\n",
    "from dotenv import load_dotenv\n",
    "import os \n",
    "from IPython.display import display, HTML, Markdown\n",
    "load_dotenv()"
   ]
  },
  {
   "cell_type": "code",
   "execution_count": 3,
   "metadata": {},
   "outputs": [],
   "source": [
    "genai.configure(api_key=os.getenv(\"GEMINI_API_KEY\"))\n",
    "model = genai.GenerativeModel(\"gemini-2.0-flash\")"
   ]
  },
  {
   "cell_type": "code",
   "execution_count": 4,
   "metadata": {},
   "outputs": [],
   "source": [
    "from fasthtml.common import *\n",
    "from monsterui.all import *"
   ]
  },
  {
   "cell_type": "markdown",
   "metadata": {},
   "source": [
    "## Creating Blog"
   ]
  },
  {
   "cell_type": "code",
   "execution_count": 6,
   "metadata": {},
   "outputs": [],
   "source": [
    "def chat(prompt):\n",
    "    return model.generate_content(prompt).text"
   ]
  },
  {
   "cell_type": "code",
   "execution_count": 7,
   "metadata": {},
   "outputs": [],
   "source": [
    "import requests\n",
    "from bs4 import BeautifulSoup"
   ]
  },
  {
   "cell_type": "code",
   "execution_count": 12,
   "metadata": {},
   "outputs": [],
   "source": [
    "url = \"https://www.answer.ai/posts/2024-11-07-solveit.html\"\n",
    "response = requests.get(url)"
   ]
  },
  {
   "cell_type": "code",
   "execution_count": 13,
   "metadata": {},
   "outputs": [
    {
     "data": {
      "text/plain": [
       "<Response [200]>"
      ]
     },
     "execution_count": 13,
     "metadata": {},
     "output_type": "execute_result"
    }
   ],
   "source": [
    "response"
   ]
  },
  {
   "cell_type": "code",
   "execution_count": 14,
   "metadata": {},
   "outputs": [],
   "source": [
    "soup = BeautifulSoup(response.text, 'html.parser')"
   ]
  },
  {
   "cell_type": "code",
   "execution_count": 15,
   "metadata": {},
   "outputs": [
    {
     "name": "stdout",
     "output_type": "stream",
     "text": [
      "<title>A New Chapter for fast.ai: How To Solve It With Code – Answer.AI</title>\n",
      "title\n"
     ]
    }
   ],
   "source": [
    "print(soup.title)\n",
    "print(soup.title.name)"
   ]
  },
  {
   "cell_type": "code",
   "execution_count": 16,
   "metadata": {},
   "outputs": [],
   "source": [
    "text = soup.get_text()"
   ]
  },
  {
   "cell_type": "code",
   "execution_count": 17,
   "metadata": {},
   "outputs": [],
   "source": [
    "prompt = f\"\"\"Extract Key point about education and \n",
    "solvit platform and dialog engineering \n",
    "and Write an essay of 200 words on each in the \n",
    "following text delimited by triple backticks.\n",
    "I want you to summarize the following text and also extract key features talked in the text. \n",
    "Return the output in Markdown format. \n",
    "Add front meta in yaml-format and use picsum to add image in front meta, also add small \n",
    "description in front meta about the blog:\n",
    "email : vik@gmail.com\n",
    "Author: Vikas Awasthi \n",
    "Date : 02/24/2025\n",
    "description: ...\n",
    "\n",
    "text : {text}\"\"\""
   ]
  },
  {
   "cell_type": "code",
   "execution_count": 18,
   "metadata": {},
   "outputs": [],
   "source": [
    "with open(\"./posts/solvit.md\", \"r\") as f:\n",
    "    content = f.read()\n",
    "\n"
   ]
  },
  {
   "cell_type": "code",
   "execution_count": 24,
   "metadata": {},
   "outputs": [
    {
     "name": "stdout",
     "output_type": "stream",
     "text": [
      "```yaml\n",
      "---\n",
      "email: vik@gmail.com\n",
      "author: Vikas Awasthi\n",
      "date: 02/24/2025\n",
      "description: An overview of fast.ai's new direction, joining Answer.AI, and the launch of their innovative 'How To Solve It With Code' course, focusing on Dialog Engineering and the solveit platform for AI-assisted coding.\n",
      "image: https://picsum.photos/400/200\n",
      "title: Fast.AI's New - 'How To Solve It With Code', and the Solveit Platform\n",
      "categories: [\"Blog\", \"Getting Started\", \"Introduction\"]\n",
      "---\n",
      "\n",
      "## Fast.ai's New Chapter: AI-Powered Education and Problem Solving\n",
      "\n",
      "This blog post announces a significant shift for fast.ai, as they join Answer.AI and introduce a novel educational approach centered around AI-assisted coding and problem-solving. The core concept is \"Dialog Engineering,\" a method of collaborative coding between humans and AI, facilitated by the solveit platform. This promises to make AI more accessible and empower individuals to tackle complex challenges through code.\n",
      "\n",
      "Link to MonsterAi -- [MonsterUi](https://monsterui.answer.ai/)\n",
      "\n",
      "```\n",
      "def sum(a, b):\n",
      "    return a + b\n",
      "```\n",
      "\n",
      "\n",
      "\n",
      "### Key Points:\n",
      "\n",
      "*   **Education:** Fast.ai is joining Answer.AI to democratize AI further, moving beyond traditional model training to focus on practical AI application in coding and problem-solving.\n",
      "*   **solveit Platform:**  A new platform designed for \"Dialog Engineering,\" embedding AI deeply into the coding development process.\n",
      "*   **Dialog Engineering:** A collaborative method where humans and AI work together in small steps, creating cleaner, more maintainable, and powerful code.\n",
      "\n",
      "\n",
      "\n",
      "## Education: Democratizing AI Through Collaborative Learning\n",
      "\n",
      "fast.ai's original mission was to democratize AI, primarily through teaching people how to train their own models. Their courses have been instrumental in creating many leading AI practitioners. However, the emergence of Large Language Models (LLMs) like ChatGPT has changed the landscape, making AI more accessible without in-depth knowledge of model training. The new \"How to Solve It with Code\" course represents a shift in focus, emphasizing how to effectively use AI tools to solve problems collaboratively. This course aims to teach individuals how to leverage AI in a way that complements human skills, resulting in solutions that are superior to what either could achieve alone. The focus is on empowering individuals with the ability to adapt and extend AI-generated code, ensuring they retain control and understanding of the final product.\n",
      "\n",
      "\n",
      "\n",
      "## solveit Platform: A Dedicated Environment for Dialog Engineering\n",
      "\n",
      "The solveit platform is a key component of fast.ai's new approach. It is specifically designed to facilitate \"Dialog Engineering,\" a method where humans and AI work together in small, iterative steps to develop code. The platform embeds AI directly into the development process, allowing users to write a line or two of code and then receive suggestions from the AI for the next step. This collaborative environment promotes a powerful feedback loop, enhancing the learning process for both the human and the AI. The solveit platform is not just theoretical; it has been used internally at Answer.AI, yielding impressive results with a small team. This demonstrates the platform's potential to significantly increase productivity and efficiency by combining human expertise with AI capabilities.\n",
      "\n",
      "\n",
      "## Dialog Engineering: Bridging the Gap Between Human and Artificial Intelligence\n",
      "\n",
      "Dialog Engineering represents a transformative approach to coding, moving beyond simple AI code generation to a collaborative partnership between humans and AI. Instead of relying on AI to produce large blocks of code, Dialog Engineering emphasizes small, iterative steps, where humans and AI work together to refine and improve the code. This creates a powerful feedback loop, leading to code that is cleaner, more maintainable, and better understood. The blog post also mentions how Dialog Engineering is not limited to just building apps, but can be used in any type of task which involves automation or repetitive coding task. This collaborative approach allows individuals to retain control and understanding of the final product, enabling them to make changes, add features, and fix bugs effectively. This results in a synergy that leverages the strengths of both humans and AI, leading to solutions that are more robust and adaptable.\n",
      "\n"
     ]
    }
   ],
   "source": [
    "print(content)"
   ]
  },
  {
   "cell_type": "code",
   "execution_count": 28,
   "metadata": {},
   "outputs": [],
   "source": [
    "res = chat(\"\"\"Also add title into this yaml fron meta: ---\n",
    "email: vik@gmail.com\n",
    "author: Vikas Awasthi\n",
    "date: 02/24/2025\n",
    "description: An overview of fast.ai's new direction, joining Answer.AI, and the launch of their innovative 'How To Solve It With Code' course, focusing on Dialog Engineering and the solveit platform for AI-assisted coding.\n",
    "image: https://picsum.photos/800/200\n",
    "---\n",
    "\"\"\")"
   ]
  },
  {
   "cell_type": "code",
   "execution_count": 30,
   "metadata": {},
   "outputs": [
    {
     "data": {
      "text/markdown": [
       "```yaml\n",
       "---\n",
       "email: vik@gmail.com\n",
       "author: Vikas Awasthi\n",
       "date: 02/24/2025\n",
       "description: An overview of fast.ai's new direction, joining Answer.AI, and the launch of their innovative 'How To Solve It With Code' course, focusing on Dialog Engineering and the solveit platform for AI-assisted coding.\n",
       "image: https://picsum.photos/800/200\n",
       "title: Fast.AI's New Chapter: Answer.AI, 'How To Solve It With Code', and the Solveit Platform\n",
       "---\n",
       "```\n",
       "\n",
       "I've added the `title` field to the YAML front matter.  I've also suggested a title based on the description provided. You can, of course, modify it to something more specific to your blog post. Remember to choose a title that is engaging and accurately reflects the content of your post.\n"
      ],
      "text/plain": [
       "<IPython.core.display.Markdown object>"
      ]
     },
     "execution_count": 30,
     "metadata": {},
     "output_type": "execute_result"
    }
   ],
   "source": [
    "Markdown(res)"
   ]
  },
  {
   "cell_type": "code",
   "execution_count": 7,
   "metadata": {},
   "outputs": [
    {
     "data": {
      "text/html": [
       "<a href=\"https://google.com\" class=\"uk-btn-primary\">read more</a>"
      ],
      "text/plain": [
       "<IPython.core.display.HTML object>"
      ]
     },
     "metadata": {},
     "output_type": "display_data"
    }
   ],
   "source": [
    "show(A(\"read more\", href=\"https://google.com\", cls=(ButtonT.primary)))"
   ]
  },
  {
   "cell_type": "code",
   "execution_count": 9,
   "metadata": {},
   "outputs": [
    {
     "data": {
      "text/html": [
       "<h1 class=\"uk-h1 \">jello</h1>\n"
      ],
      "text/plain": [
       "<IPython.core.display.HTML object>"
      ]
     },
     "metadata": {},
     "output_type": "display_data"
    }
   ],
   "source": [
    "show(H1(\"jello\"))"
   ]
  },
  {
   "cell_type": "code",
   "execution_count": 12,
   "metadata": {},
   "outputs": [],
   "source": [
    "prompt = f\"\"\"Extract the key point of the following text\n",
    "in bullet poinst. \n",
    "text: <{text}>\"\"\""
   ]
  },
  {
   "cell_type": "code",
   "execution_count": 14,
   "metadata": {},
   "outputs": [],
   "source": [
    "res = chat(prompt)"
   ]
  },
  {
   "cell_type": "code",
   "execution_count": 16,
   "metadata": {},
   "outputs": [
    {
     "name": "stdout",
     "output_type": "stream",
     "text": [
      "Here are the key points of the text in bullet points:\n",
      "\n",
      "*   **fast.ai Joins Answer.AI:** fast.ai is now part of Answer.AI, marking a new phase in democratizing AI.\n",
      "*   **New Course: \"How To Solve It With Code\":** A new beta course is introduced, focusing on a new AI-first educational experience, teaching a new approach in coding.\n",
      "*   **Shift in AI Landscape:** The focus has shifted from training models to effectively using Large Language Models (LLMs) for coding and problem-solving.\n",
      "*   **Dialog Engineering:** The course introduces \"Dialog Engineering,\" a method of working in small steps with AI to create cleaner, more maintainable code.\n",
      "*   **New Platform: solveit:** A platform called solveit is introduced as a new tool specifically designed for Dialog Engineering, embedding AI deeply into the development process.\n",
      "*   **Beyond Coding:** Dialog Engineering isn't just for app development; it can be applied to various problem-solving tasks.\n",
      "*   **First Cohort:** The course starts on November 26th, led by a team including Jeremy Howard, Johno Whitaker, and Audrey Roy Greenfeld.\n",
      "*   **Ideal Audience:** The course is for those who've used AI for coding and want to improve, not for those who think AI can entirely replace programmers.\n",
      "*   **Human-AI Partnership:** The goal is to create a powerful partnership between human understanding and AI capabilities in coding and problem-solving.\n",
      "\n"
     ]
    }
   ],
   "source": [
    "print(res)"
   ]
  },
  {
   "cell_type": "code",
   "execution_count": 11,
   "metadata": {},
   "outputs": [],
   "source": [
    "topics = [\"Solvit Platform\", \"Dialog Engineering\", \"Beyond Coding\"] "
   ]
  },
  {
   "cell_type": "code",
   "execution_count": 12,
   "metadata": {},
   "outputs": [],
   "source": [
    "url_wiki = \"https://en.wikipedia.org/wiki/How_to_Solve_It\"\n"
   ]
  },
  {
   "cell_type": "code",
   "execution_count": 13,
   "metadata": {},
   "outputs": [],
   "source": [
    "poyla = requests.get(url_wiki)"
   ]
  },
  {
   "cell_type": "code",
   "execution_count": 15,
   "metadata": {},
   "outputs": [],
   "source": [
    "soup = BeautifulSoup(poyla.text, 'html.parser')"
   ]
  },
  {
   "cell_type": "code",
   "execution_count": 16,
   "metadata": {},
   "outputs": [],
   "source": [
    "poyla_principle = soup.text"
   ]
  },
  {
   "cell_type": "code",
   "execution_count": 27,
   "metadata": {},
   "outputs": [],
   "source": [
    "prompt = f\"\"\"\n",
    "Please Go through the following text delimited by three backticks.\n",
    "text : ```{text}```.\n",
    "On the basis of text above Write a Blog that mainly focus on the \n",
    "following list of topics list: {list}.\n",
    "Take inspiration of writing from George Poyla writings.\n",
    "Sample George Poyla writing is provided by following text within \n",
    "arrows. \n",
    "Poyla text: {poyla_principle}\n",
    "This Blog should be in Markdown format that should contains \n",
    "and should contain at least 1500 words.\n",
    "Do not copy exact phrases from text provided, \n",
    "phrase in your new words and \n",
    "Explain like you are explaining a 10 year kid.\n",
    "Make tone of the text expressive appealing.\n",
    "Blog should be expressive and eye catching.\n",
    "\"\"\""
   ]
  },
  {
   "cell_type": "code",
   "execution_count": 28,
   "metadata": {},
   "outputs": [],
   "source": [
    "res = chat(prompt)"
   ]
  },
  {
   "cell_type": "code",
   "execution_count": 25,
   "metadata": {},
   "outputs": [],
   "source": [
    "def write_content(path, content):\n",
    "    f = open(path, 'w')\n",
    "    f.write(content)\n",
    "    f.close()"
   ]
  },
  {
   "cell_type": "code",
   "execution_count": 32,
   "metadata": {},
   "outputs": [],
   "source": [
    "write_content(\"./posts/Solving_it_with_code.md\", res)"
   ]
  },
  {
   "cell_type": "code",
   "execution_count": 37,
   "metadata": {},
   "outputs": [],
   "source": [
    "description = chat(f\"Please give a 3 line short description that fully summarize this blog: {res}\")"
   ]
  },
  {
   "cell_type": "code",
   "execution_count": 38,
   "metadata": {},
   "outputs": [
    {
     "data": {
      "text/markdown": [
       "This blog introduces \"How To Solve It With Code,\" a course by fast.ai and Answer.AI, teaching \"Dialog Engineering\" – a collaborative coding approach using AI tools like \"solveit\" to solve problems. It emphasizes human-AI partnership, breaking down complex tasks into smaller, manageable steps, to create understandable, maintainable code. The course aims to empower individuals to leverage AI for various applications beyond traditional app development.\n"
      ],
      "text/plain": [
       "<IPython.core.display.Markdown object>"
      ]
     },
     "execution_count": 38,
     "metadata": {},
     "output_type": "execute_result"
    }
   ],
   "source": [
    "Markdown(description)"
   ]
  },
  {
   "cell_type": "code",
   "execution_count": 39,
   "metadata": {},
   "outputs": [],
   "source": [
    "res = chat(\"\"\"Please change this text into Markdown bliock -- \"**1. Understand the Problem**: What is the problem we're trying to fix!\n",
    "**2. Make a Plan**: A roadmap on how to achieve the goal!\n",
    "**3. Carry out the Plan**: Just do it!\n",
    "**4. Look Back**: Review your steps!\"\n",
    "           \"\"\")"
   ]
  },
  {
   "cell_type": "code",
   "execution_count": 40,
   "metadata": {},
   "outputs": [
    {
     "data": {
      "text/markdown": [
       "```markdown\n",
       "1. **Understand the Problem**: What is the problem we're trying to fix?\n",
       "2. **Make a Plan**: A roadmap on how to achieve the goal!\n",
       "3. **Carry out the Plan**: Just do it!\n",
       "4. **Look Back**: Review your steps!\n",
       "```\n"
      ],
      "text/plain": [
       "<IPython.core.display.Markdown object>"
      ]
     },
     "execution_count": 40,
     "metadata": {},
     "output_type": "execute_result"
    }
   ],
   "source": [
    "Markdown(res)"
   ]
  },
  {
   "cell_type": "code",
   "execution_count": 6,
   "metadata": {},
   "outputs": [
    {
     "data": {
      "text/plain": [
       "'Hi there! How can I help you today?\\n'"
      ]
     },
     "execution_count": 6,
     "metadata": {},
     "output_type": "execute_result"
    }
   ],
   "source": [
    "chat(\"hi\")"
   ]
  },
  {
   "cell_type": "code",
   "execution_count": 28,
   "metadata": {},
   "outputs": [],
   "source": [
    "text = \"\"\"\n",
    "I'm a [FastAI](https://www.fast.ai/) & [Answer.ai](https://www.answer.ai/) alumnus, \n",
    "deeply passionate about harnessing AI to enhance professional workflows. \n",
    "With hands-on experience in building AI solutions, I strive to create impactful, efficient, and intelligent systems \n",
    "that drive real-world insights.\n",
    "As an aspiring AI engineer, I’m constantly learning, experimenting, and \n",
    "sharing how AI can transform industries and everyday work. Join me on this journey of discovery and innovation!\"\"\""
   ]
  },
  {
   "cell_type": "code",
   "execution_count": 31,
   "metadata": {},
   "outputs": [],
   "source": [
    "res = chat(f\"Please make the given text more appealing and give stylish markdown format of the giving text - do not include further explanation, just the context: {text} \")"
   ]
  },
  {
   "cell_type": "code",
   "execution_count": 32,
   "metadata": {},
   "outputs": [
    {
     "data": {
      "text/markdown": [
       "A **FastAI** & **Answer.ai** Alumnus\n",
       "\n",
       "Driven by a profound passion for revolutionizing professional workflows with AI.\n",
       "\n",
       "Crafting impactful, efficient, and intelligent AI solutions that unlock real-world insights.\n",
       "\n",
       "Aspiring AI Engineer | Constant Learner | Sharing the transformative power of AI.\n",
       "\n",
       "Join the journey of discovery and innovation!\n"
      ],
      "text/plain": [
       "<IPython.core.display.Markdown object>"
      ]
     },
     "execution_count": 32,
     "metadata": {},
     "output_type": "execute_result"
    }
   ],
   "source": [
    "Markdown(res)"
   ]
  },
  {
   "cell_type": "code",
   "execution_count": 34,
   "metadata": {},
   "outputs": [],
   "source": [
    "write_content(\"aboutme.md\", res)"
   ]
  },
  {
   "cell_type": "code",
   "execution_count": 33,
   "metadata": {},
   "outputs": [
    {
     "name": "stdout",
     "output_type": "stream",
     "text": [
      "A **FastAI** & **Answer.ai** Alumnus\n",
      "\n",
      "Driven by a profound passion for revolutionizing professional workflows with AI.\n",
      "\n",
      "Crafting impactful, efficient, and intelligent AI solutions that unlock real-world insights.\n",
      "\n",
      "Aspiring AI Engineer | Constant Learner | Sharing the transformative power of AI.\n",
      "\n",
      "Join the journey of discovery and innovation!\n",
      "\n"
     ]
    }
   ],
   "source": [
    "print(res)"
   ]
  },
  {
   "cell_type": "code",
   "execution_count": null,
   "metadata": {},
   "outputs": [],
   "source": []
  }
 ],
 "metadata": {
  "kernelspec": {
   "display_name": "base",
   "language": "python",
   "name": "python3"
  },
  "language_info": {
   "codemirror_mode": {
    "name": "ipython",
    "version": 3
   },
   "file_extension": ".py",
   "mimetype": "text/x-python",
   "name": "python",
   "nbconvert_exporter": "python",
   "pygments_lexer": "ipython3",
   "version": "3.12.2"
  }
 },
 "nbformat": 4,
 "nbformat_minor": 2
}
